{
 "cells": [
  {
   "cell_type": "code",
   "execution_count": null,
   "id": "e767b492-e243-44ce-92e9-2b6e7385bd81",
   "metadata": {},
   "outputs": [],
   "source": []
  }
 ],
 "metadata": {
  "kernelspec": {
   "display_name": "",
   "name": ""
  },
  "language_info": {
   "name": ""
  }
 },
 "nbformat": 4,
 "nbformat_minor": 5
}
